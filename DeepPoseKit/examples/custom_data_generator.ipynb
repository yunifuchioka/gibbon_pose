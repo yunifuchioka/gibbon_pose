{
 "cells": [
  {
   "cell_type": "markdown",
   "metadata": {},
   "source": [
    "<a href=\"https://colab.research.google.com/github/jgraving/deepposekit/blob/master/examples/custom_data_generator.ipynb\" target=\"_parent\"><img src=\"https://colab.research.google.com/assets/colab-badge.svg\" alt=\"Open In Colab\"/></a>"
   ]
  },
  {
   "cell_type": "markdown",
   "metadata": {},
   "source": [
    "# Use a custom data set with DeepPoseKit\n",
    "\n",
    "This an example notebook for how to create your own data generator for using custom data with DeepPoseKit. We'll create a custom data generator with `deepposekit.io.BaseGenerator` using a toy dataset. You can modify this however you'd like to generate data from an arbitrary dataset.\n",
    "\n",
    "**NOTE**: If you run into problems, you can help us improve DeepPoseKit by [opening an issue](https://github.com/jgraving/deepposekit/issues/new) or [submitting a pull request](https://help.github.com/en/articles/creating-a-pull-request-from-a-fork)\n"
   ]
  },
  {
   "cell_type": "markdown",
   "metadata": {},
   "source": [
    "If you haven't already you can install DeepPoseKit by running the next cell:"
   ]
  },
  {
   "cell_type": "code",
   "execution_count": null,
   "metadata": {},
   "outputs": [],
   "source": [
    "import sys\n",
    "!{sys.executable} -m pip install -U deepposekit "
   ]
  },
  {
   "cell_type": "code",
   "execution_count": 1,
   "metadata": {},
   "outputs": [
    {
     "name": "stderr",
     "output_type": "stream",
     "text": [
      "/Users/jake/Library/Python/3.7/lib/python/site-packages/tensorflow/python/framework/dtypes.py:516: FutureWarning: Passing (type, 1) or '1type' as a synonym of type is deprecated; in a future version of numpy, it will be understood as (type, (1,)) / '(1,)type'.\n",
      "  _np_qint8 = np.dtype([(\"qint8\", np.int8, 1)])\n",
      "/Users/jake/Library/Python/3.7/lib/python/site-packages/tensorflow/python/framework/dtypes.py:517: FutureWarning: Passing (type, 1) or '1type' as a synonym of type is deprecated; in a future version of numpy, it will be understood as (type, (1,)) / '(1,)type'.\n",
      "  _np_quint8 = np.dtype([(\"quint8\", np.uint8, 1)])\n",
      "/Users/jake/Library/Python/3.7/lib/python/site-packages/tensorflow/python/framework/dtypes.py:518: FutureWarning: Passing (type, 1) or '1type' as a synonym of type is deprecated; in a future version of numpy, it will be understood as (type, (1,)) / '(1,)type'.\n",
      "  _np_qint16 = np.dtype([(\"qint16\", np.int16, 1)])\n",
      "/Users/jake/Library/Python/3.7/lib/python/site-packages/tensorflow/python/framework/dtypes.py:519: FutureWarning: Passing (type, 1) or '1type' as a synonym of type is deprecated; in a future version of numpy, it will be understood as (type, (1,)) / '(1,)type'.\n",
      "  _np_quint16 = np.dtype([(\"quint16\", np.uint16, 1)])\n",
      "/Users/jake/Library/Python/3.7/lib/python/site-packages/tensorflow/python/framework/dtypes.py:520: FutureWarning: Passing (type, 1) or '1type' as a synonym of type is deprecated; in a future version of numpy, it will be understood as (type, (1,)) / '(1,)type'.\n",
      "  _np_qint32 = np.dtype([(\"qint32\", np.int32, 1)])\n",
      "/Users/jake/Library/Python/3.7/lib/python/site-packages/tensorflow/python/framework/dtypes.py:525: FutureWarning: Passing (type, 1) or '1type' as a synonym of type is deprecated; in a future version of numpy, it will be understood as (type, (1,)) / '(1,)type'.\n",
      "  np_resource = np.dtype([(\"resource\", np.ubyte, 1)])\n",
      "/Users/jake/Library/Python/3.7/lib/python/site-packages/tensorboard/compat/tensorflow_stub/dtypes.py:541: FutureWarning: Passing (type, 1) or '1type' as a synonym of type is deprecated; in a future version of numpy, it will be understood as (type, (1,)) / '(1,)type'.\n",
      "  _np_qint8 = np.dtype([(\"qint8\", np.int8, 1)])\n",
      "/Users/jake/Library/Python/3.7/lib/python/site-packages/tensorboard/compat/tensorflow_stub/dtypes.py:542: FutureWarning: Passing (type, 1) or '1type' as a synonym of type is deprecated; in a future version of numpy, it will be understood as (type, (1,)) / '(1,)type'.\n",
      "  _np_quint8 = np.dtype([(\"quint8\", np.uint8, 1)])\n",
      "/Users/jake/Library/Python/3.7/lib/python/site-packages/tensorboard/compat/tensorflow_stub/dtypes.py:543: FutureWarning: Passing (type, 1) or '1type' as a synonym of type is deprecated; in a future version of numpy, it will be understood as (type, (1,)) / '(1,)type'.\n",
      "  _np_qint16 = np.dtype([(\"qint16\", np.int16, 1)])\n",
      "/Users/jake/Library/Python/3.7/lib/python/site-packages/tensorboard/compat/tensorflow_stub/dtypes.py:544: FutureWarning: Passing (type, 1) or '1type' as a synonym of type is deprecated; in a future version of numpy, it will be understood as (type, (1,)) / '(1,)type'.\n",
      "  _np_quint16 = np.dtype([(\"quint16\", np.uint16, 1)])\n",
      "/Users/jake/Library/Python/3.7/lib/python/site-packages/tensorboard/compat/tensorflow_stub/dtypes.py:545: FutureWarning: Passing (type, 1) or '1type' as a synonym of type is deprecated; in a future version of numpy, it will be understood as (type, (1,)) / '(1,)type'.\n",
      "  _np_qint32 = np.dtype([(\"qint32\", np.int32, 1)])\n",
      "/Users/jake/Library/Python/3.7/lib/python/site-packages/tensorboard/compat/tensorflow_stub/dtypes.py:550: FutureWarning: Passing (type, 1) or '1type' as a synonym of type is deprecated; in a future version of numpy, it will be understood as (type, (1,)) / '(1,)type'.\n",
      "  np_resource = np.dtype([(\"resource\", np.ubyte, 1)])\n"
     ]
    }
   ],
   "source": [
    "import numpy as np\n",
    "import matplotlib.pyplot as plt\n",
    "import cv2\n",
    "\n",
    "from deepposekit.io import BaseGenerator, TrainingGenerator"
   ]
  },
  {
   "cell_type": "markdown",
   "metadata": {},
   "source": [
    "Here we'll subclass `deepposekit.io.BaseGenerator` to create a toy example. This example is very simple, but you can use any arbitrary method for loading data within the class and make it as complex as you like. For example, pass `__init__()` the location of a text file and a list of image paths, and load them when you call `get_images` and `get_keypoints`.\n",
    "\n",
    "Keep in mind that DeepPoseKit assumes **all images in the dataset are the same size/resolution**, and **the number of keypoints is the same** for all image-keypoints pairs. If a keypoint isn't visible, you should replace it's coordinates with `np.nan` and `BaseGenerator` will make sure the model is trained to predict a confidence map of zeros."
   ]
  },
  {
   "cell_type": "code",
   "execution_count": 2,
   "metadata": {},
   "outputs": [],
   "source": [
    "class ToyGenerator(BaseGenerator):\n",
    "    \"\"\"\n",
    "    ToyGenerator class \n",
    "    uses deepposekit.io.BaseGenerator for abstracting data loading and saving.\n",
    "    Attributes that should be defined before use:\n",
    "    __init__\n",
    "    __len__\n",
    "    compute_image_shape\n",
    "    compute_keypoints_shape\n",
    "    get_images\n",
    "    get_keypoints\n",
    "    set_keypoints (only needed for saving data)\n",
    "    See docstrings for deepposekit.io.BaseGenerator for further details.\n",
    "    \"\"\"\n",
    "\n",
    "    def __init__(self, images, keypoints, **kwargs):\n",
    "        \"\"\"\n",
    "        Initializes the class.\n",
    "        If graph and swap_index are not defined,\n",
    "        they are set to a vector of -1 corresponding\n",
    "        to keypoints shape\n",
    "        \"\"\"\n",
    "        assert isinstance(images, np.ndarray)\n",
    "        assert isinstance(keypoints, np.ndarray)\n",
    "        self.images = images\n",
    "        self.keypoints = keypoints\n",
    "        \n",
    "        assert len(images) == len(keypoints)\n",
    "        self.n_samples = len(images)\n",
    "        \n",
    "        # if the indexing for the real data doesn't match\n",
    "        # np.arange(self.n_samples) you can customize it here\n",
    "        self.data_index = np.arange(self.n_samples)\n",
    "        \n",
    "        # We'll use triangles as an example, so define the graph\n",
    "        # -1 indicates that index is a parent node, other values >=0\n",
    "        # indicate the parent for that node is the index value provided\n",
    "        # Here we'll connect the two bottom points to the top\n",
    "        # and avoid circular connections in the graph\n",
    "        self.graph = np.array([-1, 0, 0])\n",
    "        \n",
    "        # You can define which keypoints to swap when the image\n",
    "        # is mirrored with deepposekit.augment.FlipAxis\n",
    "        # with a numpy array of index values.\n",
    "        # -1 means no swap is made, but [2, 1, 0] would reverse the order\n",
    "        # or [1, 0 ,2] would swap the first and second keypoints\n",
    "        self.swap_index = np.array([-1, -1, -1])\n",
    "        \n",
    "        # This calls the BaseGenerator __init__, which does some \n",
    "        # basic checks to make sure the new generator will work\n",
    "        super(ToyGenerator, self).__init__(**kwargs)\n",
    "        \n",
    "    def __len__(self):\n",
    "        \"\"\"\n",
    "        Returns the number of samples in the generator as an integer\n",
    "        \"\"\"\n",
    "        return self.n_samples\n",
    "    \n",
    "    def compute_image_shape(self):\n",
    "        \"\"\"\n",
    "        Returns a tuple of integers describing\n",
    "        the image shape in the form:\n",
    "        (height, width, n_channels)\n",
    "        \"\"\"\n",
    "        return self.images.shape[1:]\n",
    "    \n",
    "    def compute_keypoints_shape(self):\n",
    "        \"\"\"\n",
    "        Returns a tuple of integers describing the\n",
    "        keypoints shape in the form:\n",
    "        (n_keypoints, 2), where 2 is the x,y (column, row) coordinates\n",
    "        \"\"\"\n",
    "        return self.keypoints.shape[1:]\n",
    "\n",
    "    def get_images(self, indexes):\n",
    "        \"\"\"\n",
    "        Takes a list or array of indexes corresponding\n",
    "        to image-keypoint pairs in the dataset.\n",
    "        Returns a numpy array of images with the shape:\n",
    "        (1, height, width, n_channels)\n",
    "        \"\"\"\n",
    "        indexes = self.data_index[indexes]\n",
    "        return self.images[indexes]\n",
    "    \n",
    "    def get_keypoints(self, indexes):\n",
    "        \"\"\"\n",
    "        Takes a list or array of indexes corresponding to\n",
    "        image-keypoint pairs in the dataset.\n",
    "        Returns a numpy array of keypoints with the shape:\n",
    "        (1, n_keypoints, 2), where 2 is the x,y (column, row) coordinates\n",
    "        \"\"\"\n",
    "        indexes = self.data_index[indexes]\n",
    "        return self.keypoints[indexes]\n",
    "    \n",
    "    def set_keypoints(self, indexes, keypoints):\n",
    "        \"\"\"\n",
    "        Takes a list or array of indexes and corresponding\n",
    "        to keypoints.\n",
    "        Sets the values of the keypoints corresponding to the indexes\n",
    "        in the dataset.\n",
    "        \"\"\"\n",
    "        indexes = self.data_index[indexes]\n",
    "        for idx in indexes:\n",
    "            self.keypoints[idx] = keypoints[idx]\n",
    "    "
   ]
  },
  {
   "cell_type": "markdown",
   "metadata": {},
   "source": [
    "Here we'll write some code to generate our data..."
   ]
  },
  {
   "cell_type": "code",
   "execution_count": 3,
   "metadata": {},
   "outputs": [],
   "source": [
    "def generate_random_triangle(image_size=(128, 128, 3)):\n",
    "    \n",
    "    # generate random coordinates\n",
    "    x = np.random.uniform(0, image_size[1], size=3)\n",
    "    y = np.random.uniform(0, image_size[0], size=3)\n",
    "    \n",
    "    # sort by y axis\n",
    "    sorted_idx = np.argsort(y)\n",
    "    x = x[sorted_idx]\n",
    "    y = y[sorted_idx]\n",
    "    keypoints = np.stack((x, y)).T\n",
    "    \n",
    "    # Generate a corresponding image with a random color\n",
    "    image = np.ones(image_size, dtype=np.uint8) * 255\n",
    "    color = tuple([np.random.randint(0, 255, dtype=int) for idx in range(image_size[-1])])\n",
    "    image = cv2.drawContours(image, [keypoints.reshape(3, 1, 2).astype(int)], 0, color, -1)\n",
    "\n",
    "    return image, keypoints\n",
    "\n",
    "def generator_toy_data(n_samples=1000, image_size=(128, 128, 3)):\n",
    "    images = []\n",
    "    keypoints = []\n",
    "    for idx in range(n_samples):\n",
    "        image_idx, keypoints_idx = generate_random_triangle(image_size)\n",
    "        images.append(image_idx)\n",
    "        keypoints.append(keypoints_idx)\n",
    "    images = np.stack(images)\n",
    "    keypoints = np.stack(keypoints)\n",
    "    return images, keypoints"
   ]
  },
  {
   "cell_type": "code",
   "execution_count": 4,
   "metadata": {},
   "outputs": [
    {
     "data": {
      "image/png": "[encoded data removed]",
      "text/plain": [
       "<Figure size 432x288 with 1 Axes>"
      ]
     },
     "metadata": {
      "needs_background": "light"
     },
     "output_type": "display_data"
    },
    {
     "data": {
      "image/png": "[encoded data removed]",
      "text/plain": [
       "<Figure size 432x288 with 1 Axes>"
      ]
     },
     "metadata": {
      "needs_background": "light"
     },
     "output_type": "display_data"
    },
    {
     "data": {
      "image/png": "[encoded data removed]",
      "text/plain": [
       "<Figure size 432x288 with 1 Axes>"
      ]
     },
     "metadata": {
      "needs_background": "light"
     },
     "output_type": "display_data"
    }
   ],
   "source": [
    "for idx in range(3):\n",
    "    image, keypoints = generate_random_triangle()\n",
    "\n",
    "    plt.imshow(image)\n",
    "    plt.scatter(keypoints[..., 0],\n",
    "                keypoints[..., 1],\n",
    "                c=np.arange(3),\n",
    "                s=100, cmap=plt.cm.jet, zorder=3)\n",
    "    plt.show()"
   ]
  },
  {
   "cell_type": "markdown",
   "metadata": {},
   "source": [
    "Now we'll generate the toy dataset and pass it to our `ToyGenerator` and then test that the generator is working"
   ]
  },
  {
   "cell_type": "code",
   "execution_count": 5,
   "metadata": {},
   "outputs": [],
   "source": [
    "images, keypoints = generator_toy_data()"
   ]
  },
  {
   "cell_type": "code",
   "execution_count": 6,
   "metadata": {},
   "outputs": [
    {
     "data": {
      "text/plain": [
       "((1000, 128, 128, 3), (1000, 3, 2))"
      ]
     },
     "execution_count": 6,
     "metadata": {},
     "output_type": "execute_result"
    }
   ],
   "source": [
    "images.shape, keypoints.shape"
   ]
  },
  {
   "cell_type": "code",
   "execution_count": 7,
   "metadata": {},
   "outputs": [],
   "source": [
    "generator = ToyGenerator(images, keypoints)"
   ]
  },
  {
   "cell_type": "code",
   "execution_count": 8,
   "metadata": {},
   "outputs": [
    {
     "data": {
      "image/png": "[encoded data removed]",
      "text/plain": [
       "<Figure size 432x288 with 1 Axes>"
      ]
     },
     "metadata": {
      "needs_background": "light"
     },
     "output_type": "display_data"
    },
    {
     "data": {
      "image/png": "[encoded data removed]",
      "text/plain": [
       "<Figure size 432x288 with 1 Axes>"
      ]
     },
     "metadata": {
      "needs_background": "light"
     },
     "output_type": "display_data"
    },
    {
     "data": {
      "image/png": "[encoded data removed]",
      "text/plain": [
       "<Figure size 432x288 with 1 Axes>"
      ]
     },
     "metadata": {
      "needs_background": "light"
     },
     "output_type": "display_data"
    }
   ],
   "source": [
    "for idx in range(3):\n",
    "    image, keypoints = generator[idx]\n",
    "\n",
    "    plt.imshow(image[0])\n",
    "    plt.scatter(keypoints[0, ..., 0],\n",
    "                keypoints[0, ..., 1],\n",
    "                c=np.arange(3),\n",
    "                s=100, cmap=plt.cm.jet, zorder=3)\n",
    "    plt.show()"
   ]
  },
  {
   "cell_type": "markdown",
   "metadata": {},
   "source": [
    "Now we'll pass our `ToyGenerator` to the `TrainingGenerator` to get confidence maps."
   ]
  },
  {
   "cell_type": "code",
   "execution_count": 14,
   "metadata": {},
   "outputs": [
    {
     "data": {
      "text/plain": [
       "{'n_train': 900,\n",
       " 'n_validation': 100,\n",
       " 'validation_split': 0.1,\n",
       " 'downsample_factor': 2,\n",
       " 'output_shape': (32, 32),\n",
       " 'n_output_channels': 8,\n",
       " 'shuffle': True,\n",
       " 'sigma': 3,\n",
       " 'output_sigma': 0.75,\n",
       " 'use_graph': True,\n",
       " 'graph_scale': 1,\n",
       " 'random_seed': 1,\n",
       " 'augmenter': False,\n",
       " 'generator': 'ToyGenerator',\n",
       " 'n_samples': 1000,\n",
       " 'image_shape': (128, 128, 3),\n",
       " 'keypoints_shape': (3, 2)}"
      ]
     },
     "execution_count": 14,
     "metadata": {},
     "output_type": "execute_result"
    }
   ],
   "source": [
    "train_generator = TrainingGenerator(generator=generator,\n",
    "                                    downsample_factor=2,\n",
    "                                    augmenter=None,\n",
    "                                    sigma=3,\n",
    "                                    validation_split=0.1, \n",
    "                                    use_graph=True,\n",
    "                                    random_seed=1,\n",
    "                                    graph_scale=1)\n",
    "train_generator.get_config()"
   ]
  },
  {
   "cell_type": "code",
   "execution_count": 16,
   "metadata": {},
   "outputs": [
    {
     "data": {
      "image/png": "[encoded data removed]",
      "text/plain": [
       "<Figure size 720x720 with 4 Axes>"
      ]
     },
     "metadata": {
      "needs_background": "light"
     },
     "output_type": "display_data"
    }
   ],
   "source": [
    "n_keypoints = generator.keypoints_shape[0]\n",
    "batch = train_generator(batch_size=1, validation=False)[0]\n",
    "inputs = batch[0]\n",
    "outputs = batch[1]\n",
    "\n",
    "fig, ((ax1, ax2), (ax3, ax4)) = plt.subplots(2, 2, figsize=(10,10))\n",
    "ax1.set_title('image')\n",
    "ax1.imshow(inputs[0,...,0], cmap='gray', vmin=0, vmax=255)\n",
    "\n",
    "ax2.set_title('posture graph')\n",
    "ax2.imshow(outputs[0,...,n_keypoints:-1].max(-1), interpolation='none')\n",
    "\n",
    "ax3.set_title('keypoints confidence')\n",
    "ax3.imshow(outputs[0,...,:n_keypoints].max(-1), interpolation='none')\n",
    "\n",
    "ax4.set_title('posture graph and keypoints confidence')\n",
    "ax4.imshow(outputs[0,...,-1], vmin=0, interpolation='none')\n",
    "plt.show()\n",
    "\n",
    "train_generator.on_epoch_end()"
   ]
  },
  {
   "cell_type": "code",
   "execution_count": null,
   "metadata": {},
   "outputs": [],
   "source": []
  }
 ],
 "metadata": {
  "kernelspec": {
   "display_name": "Python 3",
   "language": "python",
   "name": "python3"
  },
  "language_info": {
   "codemirror_mode": {
    "name": "ipython",
    "version": 3
   },
   "file_extension": ".py",
   "mimetype": "text/x-python",
   "name": "python",
   "nbconvert_exporter": "python",
   "pygments_lexer": "ipython3",
   "version": "3.7.4"
  }
 },
 "nbformat": 4,
 "nbformat_minor": 2
}
